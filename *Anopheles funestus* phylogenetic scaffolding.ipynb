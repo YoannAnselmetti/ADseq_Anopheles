{
 "cells": [
  {
   "cell_type": "markdown",
   "metadata": {
    "slideshow": {
     "slide_type": "slide"
    }
   },
   "source": [
    "# Anopheles genomes phylogenetic scaffolding notebook\n",
    "\n",
    "1. Yoann Aselmetti\n",
    "2. Severine Berard\n",
    "3. Eric Tannier\n",
    "4. Cedric Chauve, Department of Mathematics, Simon Fraser University, cedric.chauve@sfu.ca\n",
    "\n",
    "## Introduction\n",
    "\n",
    "This notebook describes an improvement of the assembly of several mosquito genomes of the genus *Anopheles* using the newly developed phylogenetic scaffolding methods DeClone and ADseq."
   ]
  },
  {
   "cell_type": "markdown",
   "metadata": {
    "slideshow": {
     "slide_type": "slide"
    }
   },
   "source": [
    "## Material and methods\n",
    "\n",
    "**To do: ADseq and DeClone, sequencing data, species tree**"
   ]
  },
  {
   "cell_type": "markdown",
   "metadata": {
    "slideshow": {
     "slide_type": "slide"
    }
   },
   "source": [
    "## Results\n",
    "\n",
    "We now describe the results of our analysis, both in terms of scaffolding of extant *Anopheles* genomes, with a special focus on the genome *Anopheles funestus*, and of the ancestral genome maps we obtain, and what we can learn from them in terms of the evolution of the *Anopheles* genus."
   ]
  },
  {
   "cell_type": "code",
   "execution_count": 1,
   "metadata": {
    "collapsed": false,
    "slideshow": {
     "slide_type": "skip"
    }
   },
   "outputs": [],
   "source": [
    "import sys, math, numpy as np\n",
    "%matplotlib inline  \n",
    "import matplotlib, matplotlib.pyplot as plt\n",
    "\n",
    "sys.path.insert(0, './scripts')\n",
    "from declone_aux import *\n",
    "\n",
    "# Reading the genes file\n",
    "GENES_import(read_tab_file(\"./data/anopheles_genes_filtered\"))\n",
    "OG_import(read_tab_file(\"./data/anopheles_genes_filtered\"))\n",
    "GENOMES_import(read_tab_file(\"./data/anopheles_genes_filtered\"))\n",
    "# Reading the BESST file\n",
    "BESST_import(read_tab_file(\"./data/anopheles_besst\"))\n",
    "# Reading the DeClone results file\n",
    "DECLONE_import(read_tab_file(\"./results/anopheles_results_01_all\"))"
   ]
  },
  {
   "cell_type": "code",
   "execution_count": 8,
   "metadata": {
    "collapsed": false,
    "slideshow": {
     "slide_type": "skip"
    }
   },
   "outputs": [],
   "source": [
    "# Computing the distribution of DeClone scores for scaffolding adjacencies in step bins\n",
    "def DeClone_scores_distribution(nb_bins):\n",
    "    ivalues=range(0,nb_bins+1)\n",
    "    adjacencies_scores_distribution={}   # Indexed per species name and then by bins rank\n",
    "    for species_name in GENOMES_list():  # Instantiating the structure adjacencies_scores_distribution\n",
    "        adjacencies_scores_distribution[species_name]={}\n",
    "        for t in ivalues:\n",
    "            adjacencies_scores_distribution[species_name][t]=0 \n",
    "    for instance in DECLONE_instances(): # Populating the structure adjacencies_scores_distribution\n",
    "        for adjacency in DECLONE_adj_per_instance(instance):\n",
    "            score = DECLONE_adj_score(adjacency)\n",
    "            species_name = DECLONE_adj_species_name(adjacency)\n",
    "            if score<1.0 and species_name!=\"ANCESTRAL\": # Scaffolding adjacency\n",
    "                adjacencies_scores_distribution[species_name][math.floor(score*nb_bins)]+=1\n",
    "    return(adjacencies_scores_distribution)\n",
    "    \n",
    "# Plotting a distribution of scores per species in stacked bars\n",
    "def plot_scores_distribution_per_species(T,nb_bins):\n",
    "    ivalues=range(0,nb_bins+1)\n",
    "    bars={}\n",
    "    bars[0]=[]\n",
    "    for species in GENOMES_list():\n",
    "        bars[0].append(0)\n",
    "    for t in ivalues:\n",
    "        bars[t+1]=[]\n",
    "        for species_name in GENOMES_list():\n",
    "            bars[t+1].append(T[species_name][t])\n",
    " \n",
    "    colors = plt.cm.BuPu(np.linspace(0, 0.5, len(ivalues)))\n",
    "    ind    = np.arange(len(GENOMES_list()))\n",
    "    lft    = sum([np.array(bars[0])])\n",
    "    height = 0.8\n",
    "\n",
    "    for t in ivalues:\n",
    "        plt.barh(ind, np.array(bars[t+1]), height=height, color=colors[t], left=lft)\n",
    "        lft+=sum([np.array(bars[t+1])])\n",
    "\n",
    "    plt.yticks(ind+height/2,  T.keys())\n",
    "    plt.xlabel(\"Number of scaffolding adjacencies per DeClone score (bins of size \"+str(1.0/nb_bins)+\")\")    \n",
    "    plt.show()"
   ]
  },
  {
   "cell_type": "code",
   "execution_count": 10,
   "metadata": {
    "caption": "Distribution of scaffolding adjacencies DeClone scores",
    "collapsed": false,
    "label": "fig:scaf_adj_score_dist",
    "widefigure": true
   },
   "outputs": [
    {
     "data": {
      "image/png": "[encoded data removed]",
      "text/plain": [
       "<matplotlib.figure.Figure at 0x11b4f7da0>"
      ]
     },
     "metadata": {},
     "output_type": "display_data"
    }
   ],
   "source": [
    "nb_bins=10 # Binning the adjacencies by bins of size 0.1\n",
    "ADJ_SCORES_D = DeClone_scores_distribution(nb_bins)\n",
    "plot_scores_distribution_per_species(ADJ_SCORES_D, nb_bins)"
   ]
  },
  {
   "cell_type": "raw",
   "metadata": {
    "collapsed": false
   },
   "source": []
  },
  {
   "cell_type": "raw",
   "metadata": {},
   "source": []
  },
  {
   "cell_type": "code",
   "execution_count": null,
   "metadata": {
    "collapsed": true
   },
   "outputs": [],
   "source": []
  },
  {
   "cell_type": "code",
   "execution_count": null,
   "metadata": {
    "collapsed": false,
    "slideshow": {
     "slide_type": "notes"
    }
   },
   "outputs": [],
   "source": []
  },
  {
   "cell_type": "code",
   "execution_count": null,
   "metadata": {
    "collapsed": true
   },
   "outputs": [],
   "source": []
  }
 ],
 "metadata": {
  "celltoolbar": "Edit Metadata",
  "kernelspec": {
   "display_name": "Python 3",
   "language": "python",
   "name": "python3"
  },
  "language_info": {
   "codemirror_mode": {
    "name": "ipython",
    "version": 3
   },
   "file_extension": ".py",
   "mimetype": "text/x-python",
   "name": "python",
   "nbconvert_exporter": "python",
   "pygments_lexer": "ipython3",
   "version": "3.5.1"
  }
 },
 "nbformat": 4,
 "nbformat_minor": 0
}
