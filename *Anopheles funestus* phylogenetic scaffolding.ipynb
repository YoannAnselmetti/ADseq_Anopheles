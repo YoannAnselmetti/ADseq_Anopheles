{
 "cells": [
  {
   "cell_type": "markdown",
   "metadata": {
    "slideshow": {
     "slide_type": "slide"
    }
   },
   "source": [
    "# Anopheles funestus assembly notebook\n",
    "\n",
    "1. Yoann Aselmetti\n",
    "2. Severine Berard\n",
    "3. Eric Tannier\n",
    "4. Cedric Chauve, Department of Mathematics, Simon Fraser University, cedric.chauve@sfu.ca\n",
    "\n",
    "## Introduction\n",
    "\n",
    "This notebook describes an improvement of the assembly of the genome of the mosquito *Anopheles funestus* using the newly developed methods DeClone and ADseq."
   ]
  },
  {
   "cell_type": "markdown",
   "metadata": {
    "slideshow": {
     "slide_type": "slide"
    }
   },
   "source": [
    "## Material and methods\n",
    "\n",
    "**To do**"
   ]
  },
  {
   "cell_type": "markdown",
   "metadata": {
    "slideshow": {
     "slide_type": "slide"
    }
   },
   "source": [
    "## Results"
   ]
  },
  {
   "cell_type": "code",
   "execution_count": 10,
   "metadata": {
    "collapsed": false,
    "slideshow": {
     "slide_type": "skip"
    }
   },
   "outputs": [],
   "source": [
    "import sys\n",
    "import math\n",
    "%matplotlib inline  \n",
    "import matplotlib\n",
    "import numpy as np\n",
    "import matplotlib.pyplot as plt\n",
    "\n",
    "sys.path.insert(0, './scripts')\n",
    "from declone_aux import *"
   ]
  },
  {
   "cell_type": "code",
   "execution_count": 3,
   "metadata": {
    "collapsed": false,
    "slideshow": {
     "slide_type": "skip"
    }
   },
   "outputs": [],
   "source": [
    "# Reading the genes file\n",
    "GENES_import(read_tab_file(\"./data/anopheles_genes_filtered\"))\n",
    "OG_import(read_tab_file(\"./data/anopheles_genes_filtered\"))\n",
    "GENOMES_import(read_tab_file(\"./data/anopheles_genes_filtered\"))\n",
    "# Reading the BESST file\n",
    "BESST_import(read_tab_file(\"./data/anopheles_besst\"))\n",
    "# Reading the DeClone results\n",
    "DECLONE_import(read_tab_file(\"./results/anopheles_results_01_all\"))"
   ]
  },
  {
   "cell_type": "code",
   "execution_count": null,
   "metadata": {
    "collapsed": false
   },
   "outputs": [],
   "source": []
  },
  {
   "cell_type": "code",
   "execution_count": 9,
   "metadata": {
    "collapsed": false,
    "slideshow": {
     "slide_type": "skip"
    }
   },
   "outputs": [],
   "source": [
    "# Recording the score of all scaffolding adjacencies per species\n",
    "adjacencies_scores_per_species={}  # List of adjacencies scores per species\n",
    "for species_name in GENOMES_list():\n",
    "    adjacencies_scores_per_species[species_name]=[]\n",
    "adjacencies_scores_per_species[\"ANCESTRAL\"]=[]\n",
    "for instance in DECLONE_instances():\n",
    "    for adjacency in DECLONE_adj_per_instance(instance):\n",
    "        if DECLONE_adj_score(adjacency)<1.0:\n",
    "            adjacencies_scores_per_species[DECLONE_adj_species_name(adjacency)].append(DECLONE_adj_score(adjacency))\n",
    "       \n",
    "adjacencies_nb_per_species={} # Number of scaffolding adjacencies per species\n",
    "# Sorting the scores per species in increasing order\n",
    "for species_name in GENOMES_list():\n",
    "    adjacencies_nb_per_species[species_name]=len(adjacencies_scores_per_species[species_name])\n",
    "    adjacencies_scores_per_species[species_name].sort()"
   ]
  },
  {
   "cell_type": "code",
   "execution_count": 136,
   "metadata": {
    "collapsed": false
   },
   "outputs": [
    {
     "data": {
      "image/png": "[encoded data removed]",
      "text/plain": [
       "<matplotlib.figure.Figure at 0x7fd2c6c508d0>"
      ]
     },
     "metadata": {},
     "output_type": "display_data"
    }
   ],
   "source": [
    "# Counting and plotting the number of adjacencies per score by bins of 1/step1\n",
    "step1=10\n",
    "ivalues=range(0,step1+1)\n",
    "adjacencies_scores_per_species_distribution={}\n",
    "for species_name in GENOMES_list():\n",
    "    adjacencies_scores_per_species_distribution[species_name]={}\n",
    "    for t in ivalues:\n",
    "        adjacencies_scores_per_species_distribution[species_name][t]=0\n",
    "    for s in adjacencies_scores_per_species[species_name]:\n",
    "        adjacencies_scores_per_species_distribution[species_name][math.floor(s*step)]+=1\n",
    "\n",
    "# Plotting as stacked bars\n",
    "bars={}\n",
    "bars[0]=[]\n",
    "for species in GENOMES_list():\n",
    "    bars[0].append(0)\n",
    "for t in ivalues:\n",
    "    bars[t+1]=[]\n",
    "    for species in GENOMES_list():\n",
    "        bars[t+1].append(adjacencies_scores_per_species_distribution[species][t])\n",
    " \n",
    "colors = plt.cm.BuPu(np.linspace(0, 0.5, len(ivalues)))\n",
    "ind = np.arange(len(adjacencies_nb_per_species))\n",
    "lft = sum([np.array(bars[0])])\n",
    "\n",
    "#cell_text = []\n",
    "for t in ivalues:\n",
    "    plt.barh(ind, np.array(bars[t+1]), color=colors[t], left=lft)\n",
    "    lft+=sum([np.array(bars[t+1])])\n",
    "#    cell_text.append([x for x in bars[t+1]])\n",
    "\n",
    "#plt.table(cellText=cell_text,rowLabels=ivalues,rowColours=colors,colLabels=GENOMES_list(),loc='bottom')\n",
    "plt.subplots_adjust(left=0.2, bottom=0.2)\n",
    "plt.yticks(ind+height/2,  adjacencies_nb_per_species.keys())\n",
    "plt.xlabel(\"Number of scaffolding adjacencies per score (bins of size \"+str(1.0/step1)+\")\")\n",
    "plt.show()\n",
    "\n"
   ]
  },
  {
   "cell_type": "code",
   "execution_count": null,
   "metadata": {
    "collapsed": false
   },
   "outputs": [],
   "source": []
  },
  {
   "cell_type": "raw",
   "metadata": {},
   "source": []
  },
  {
   "cell_type": "code",
   "execution_count": null,
   "metadata": {
    "collapsed": true
   },
   "outputs": [],
   "source": []
  },
  {
   "cell_type": "code",
   "execution_count": null,
   "metadata": {
    "collapsed": false,
    "slideshow": {
     "slide_type": "notes"
    }
   },
   "outputs": [],
   "source": []
  },
  {
   "cell_type": "code",
   "execution_count": null,
   "metadata": {
    "collapsed": true
   },
   "outputs": [],
   "source": []
  }
 ],
 "metadata": {
  "celltoolbar": "Slideshow",
  "kernelspec": {
   "display_name": "Python 3",
   "language": "python",
   "name": "python3"
  },
  "language_info": {
   "codemirror_mode": {
    "name": "ipython",
    "version": 3
   },
   "file_extension": ".py",
   "mimetype": "text/x-python",
   "name": "python",
   "nbconvert_exporter": "python",
   "pygments_lexer": "ipython3",
   "version": "3.5.1"
  }
 },
 "nbformat": 4,
 "nbformat_minor": 0
}
