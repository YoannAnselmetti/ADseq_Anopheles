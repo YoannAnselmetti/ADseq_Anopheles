{
 "cells": [
  {
   "cell_type": "markdown",
   "metadata": {},
   "source": [
    "# Anopheles genomes phylogenetic scaffolding and evolution notebook\n",
    "\n",
    "1. Yoann Aselmetti\n",
    "2. Severine Berard\n",
    "3. Eric Tannier\n",
    "4. Cedric Chauve, Department of Mathematics, Simon Fraser University, cedric.chauve@sfu.ca"
   ]
  },
  {
   "cell_type": "markdown",
   "metadata": {
    "slideshow": {
     "slide_type": "slide"
    }
   },
   "source": [
    "## Introduction\n",
    "\n",
    "This notebook describes an improvement of the assembly of several mosquito genomes of the genus *Anopheles* using the newly developed phylogenetic scaffolding methods DeClone and ADseq."
   ]
  },
  {
   "cell_type": "code",
   "execution_count": 1,
   "metadata": {
    "collapsed": true
   },
   "outputs": [],
   "source": [
    "import sys, math, numpy as np\n",
    "%matplotlib inline  \n",
    "import matplotlib, matplotlib.pyplot as plt\n",
    "\n",
    "sys.path.insert(0, './scripts')\n",
    "from declone_aux import *\n",
    "from plotting import *"
   ]
  },
  {
   "cell_type": "code",
   "execution_count": null,
   "metadata": {
    "collapsed": false
   },
   "outputs": [],
   "source": [
    "from IPython.display import HTML\n",
    "HTML('''<script>\n",
    "code_show=true; \n",
    "function code_toggle() {\n",
    " if (code_show){\n",
    " $('div.input').hide();\n",
    " } else {\n",
    " $('div.input').show();\n",
    " }\n",
    " code_show = !code_show\n",
    "} \n",
    "$( document ).ready(code_toggle);\n",
    "</script>\n",
    "The raw code for this IPython notebook is by default hidden for easier reading.\n",
    "To toggle on/off the raw code, click <a href=\"javascript:code_toggle()\">here</a>.''')"
   ]
  },
  {
   "cell_type": "markdown",
   "metadata": {
    "slideshow": {
     "slide_type": "slide"
    }
   },
   "source": [
    "## Material and methods"
   ]
  },
  {
   "cell_type": "code",
   "execution_count": 2,
   "metadata": {
    "collapsed": false
   },
   "outputs": [],
   "source": [
    "# Reading the genes file\n",
    "GENES_import(read_tab_file(\"./data/anopheles_genes_filtered\"))\n",
    "OG_import(read_tab_file(\"./data/anopheles_genes_filtered\"))\n",
    "GENOMES_import(read_tab_file(\"./data/anopheles_genes_filtered\"))\n",
    "# Reading the BESST file\n",
    "BESST_import(read_tab_file(\"./data/anopheles_besst\"))\n",
    "# Reading the DeClone results file\n",
    "DECLONE_import(read_tab_file(\"./results/anopheles_results_01_all\"))"
   ]
  },
  {
   "cell_type": "code",
   "execution_count": 3,
   "metadata": {
    "collapsed": true
   },
   "outputs": [],
   "source": [
    "# Auxiliary functions\n",
    "def __adj_score_species(a):\n",
    "    return((DECLONE_adj_score(a),(DECLONE_adj_species_id(a),DECLONE_adj_species_name(a))))\n",
    "def __adj_species(a):\n",
    "    return((DECLONE_adj_species_id(a),DECLONE_adj_species_name(a)))\n",
    "def __adj_genes(a):\n",
    "    return(((DECLONE_adj_gene1_tree(a),DECLONE_adj_gene1_node(a)),(DECLONE_adj_gene2_tree(a),DECLONE_adj_gene2_node(a))))"
   ]
  },
  {
   "cell_type": "code",
   "execution_count": null,
   "metadata": {
    "collapsed": false
   },
   "outputs": [],
   "source": [
    "# Creating structures to access easily data and results\n",
    "# Adjacencies: all adjacencies, ancestral adjacencies, extant adjacencies, scaffolding adjacencies\n",
    "# Adjacencies can be interrogated using the DECLONE_adj_* functions from declone_aux.py\n",
    "ALL_ADJ    = DECLONE_adjacencies_list()\n",
    "ANC_ADJ    = [adj for adj in ALL_ADJ if DECLONE_adj_species_name(adj)==\"ANCESTRAL\"]\n",
    "EXTANT_ADJ = [adj for adj in ALL_ADJ if DECLONE_adj_species_name(adj)!=\"ANCESTRAL\"]\n",
    "SCAFF_ADJ  = [adj for adj in EXTANT_ADJ if DECLONE_adj_score(adj)<1.0]\n",
    "# Species: all species, extant species, ancestral species\n",
    "# Each species is represented by a pair (node_id_in_newick_species_tree,name) where ancestral species have all the name \"ANCESTRAL\"\n",
    "__ALL_SP_AUX={__adj_species(adj): 1 for adj in ALL_ADJ} # Temporary data structure\n",
    "ALL_SPECIES    = [sp for sp in __ALL_SP_AUX.keys()]\n",
    "EXTANT_SPECIES = [sp for sp in ALL_SPECIES if sp[1]!=\"ANCESTRAL\"]\n",
    "ANC_SPECIES    = [sp for sp in ALL_SPECIES if sp[1]==\"ANCESTRAL\"]"
   ]
  },
  {
   "cell_type": "markdown",
   "metadata": {},
   "source": [
    "### Material\n",
    "\n",
    "*Species tree (figure below), genes, chromosomes/scaffolds/contigs, gene families/orthogroups, gene trees*\n",
    "\n",
    "<img src=\"images/anopheles_species_tree_labeled.png\",width=600,height=600> "
   ]
  },
  {
   "cell_type": "code",
   "execution_count": null,
   "metadata": {
    "collapsed": false
   },
   "outputs": [],
   "source": [
    "# Plotting the fragmentation and number of genes of each genome\n",
    "GENOMES_EXTANT_FRAGMENTATION={sp[1]: {0: GENOMES_nbscf(sp[1])} for sp in EXTANT_SPECIES}\n",
    "xlabel = \"Number of scaffolds/contigs/chromosomes\"\n",
    "title  = \"Assembly level of extant genomes\"\n",
    "plot_scores_distribution_per_species(GENOMES_EXTANT_FRAGMENTATION, 1, 0.5, xlabel, title,0.8,True)\n",
    "GENOMES_EXTANT_NBGENES={sp[1]: {0: GENOMES_nbgenes(sp[1])} for sp in EXTANT_SPECIES}\n",
    "xlabel = \"Number of genes\"\n",
    "title  = \"Genes complement of extant genomes\"\n",
    "plot_scores_distribution_per_species(GENOMES_EXTANT_NBGENES, 1, 0.5, xlabel, title,0.8,True)"
   ]
  },
  {
   "cell_type": "markdown",
   "metadata": {},
   "source": [
    "### Methods\n",
    "\n",
    "*ProfileNJ, DeClone, ADSeq, ideally joined into a single tool*"
   ]
  },
  {
   "cell_type": "markdown",
   "metadata": {
    "slideshow": {
     "slide_type": "slide"
    }
   },
   "source": [
    "## Results\n",
    "\n",
    "We now describe the results of our analysis, both in terms of scaffolding of extant *Anopheles* genomes, with a special focus on the genome *Anopheles funestus*, and of the ancestral genome maps we obtain, and what we can learn from them in terms of the evolution of the *Anopheles* genus."
   ]
  },
  {
   "cell_type": "code",
   "execution_count": null,
   "metadata": {
    "collapsed": false
   },
   "outputs": [],
   "source": [
    "# Here we record the number of adjacencies for all species with adjacencies binned by bins of score 0.1\n",
    "NB_BINS=10 # Binning the adjacencies by bins of size 0.1: \n",
    "           # bin i contains adjacencies of score <=0.1*i and <0.1*(i+1)\n",
    "(IVALUES,IVALUES1)=(range(0,NB_BINS+1),range(0,NB_BINS))\n",
    "ALL_ADJ_DISTRIB    = {sp: {t : 0 for t in IVALUES} for sp in ALL_SPECIES}\n",
    "ANC_ADJ_DISTRIB    = {sp: {t : 0 for t in IVALUES} for sp in ANC_SPECIES}\n",
    "EXTANT_ADJ_DISTRIB = {sp: {t : 0 for t in IVALUES} for sp in EXTANT_SPECIES}\n",
    "SCAFF_ADJ_DISTRIB  = {sp: {t : 0 for t in IVALUES} for sp in EXTANT_SPECIES}\n",
    "for adj in ALL_ADJ: \n",
    "    (score,species) = __adj_score_species(adj)\n",
    "    score_bin=math.floor(score*NB_BINS)\n",
    "    ALL_ADJ_DISTRIB[species][score_bin]+=1\n",
    "    if species[1]==\"ANCESTRAL\":\n",
    "        ANC_ADJ_DISTRIB[species][score_bin]+=1\n",
    "    else:\n",
    "        EXTANT_ADJ_DISTRIB[species][score_bin]+=1\n",
    "        SCAFF_ADJ_DISTRIB[species][score_bin]+=1*int(score<1.0)"
   ]
  },
  {
   "cell_type": "markdown",
   "metadata": {},
   "source": [
    "### Gene trees\n",
    "\n",
    "*To do: describe the improvement of the new gene trees, gene content, duplications, ...*"
   ]
  },
  {
   "cell_type": "markdown",
   "metadata": {},
   "source": [
    "### Scaffolding extant genomes: overview\n",
    "\n",
    "In this section, we present a general overview of the scaffolding adjacencies inferred by the methods ADseq+DeClone."
   ]
  },
  {
   "cell_type": "code",
   "execution_count": null,
   "metadata": {
    "caption": "Distribution of scaffolding adjacencies DeClone scores",
    "collapsed": false,
    "label": "fig:scaf_adj_score_dist",
    "widefigure": true
   },
   "outputs": [],
   "source": [
    "# Distribution of the scores of scaffolding adjacencies \n",
    "# CC: I do not know how to generate a nice table: this is a pis-aller\n",
    "print(\"species name\\t\"+\"\\t\".join([\"<\"+str(((t+1)/NB_BINS)) for t in IVALUES1]))\n",
    "print(\"\\n\".join(species[1][0:15]+\"\\t\"+\"\\t\".join(str(SCAFF_ADJ_DISTRIB[species][t]) for t in IVALUES1) for species in EXTANT_SPECIES))\n",
    "# Figure\n",
    "xlabel= \"Number of scaffolding adjacencies per DeClone score (bins of size \"+str(1.0/NB_BINS)+\")\"\n",
    "title = \"Distribution of DeClone scores\"\n",
    "plot_scores_distribution_per_species(SCAFF_ADJ_DISTRIB, NB_BINS, 1.0, xlabel, title, 0.8,True)"
   ]
  },
  {
   "cell_type": "markdown",
   "metadata": {},
   "source": [
    "We can observe on the table and figure above that many adjacencies seem to have a high DeClone score, although for highly fragmented genomes, we can observe a large number of poorly supported adjacencies. "
   ]
  },
  {
   "cell_type": "markdown",
   "metadata": {},
   "source": [
    "We now look at the number of conflicts, defined as either a gene with three or more neighbours, without accounting for gene orientation in extant species.\n"
   ]
  },
  {
   "cell_type": "code",
   "execution_count": null,
   "metadata": {
    "collapsed": false
   },
   "outputs": [],
   "source": [
    "# We now look at the conflicts\n",
    "# We record the number of genes that belong to a conflict if restricted to all adjacencies of score \n",
    "# above a threshold. The thresholds are organized in bins of size 0.1\n",
    "ANC_CONF_DISTRIB   = {sp: {t : 0 for t in IVALUES} for sp in ANC_SPECIES}\n",
    "SCAFF_CONF_DISTRIB = {sp: {t : 0 for t in IVALUES} for sp in EXTANT_SPECIES}\n",
    "DEGREE={} # Number of neighbours of genes, indexed by pairs (tree,node)\n",
    "\n",
    "for adj in ALL_ADJ: # Initializing the tables\n",
    "    (gene1,gene2)=__adj_genes(adj)\n",
    "    (DEGREE[gene1],DEGREE[gene2])=({t : 0 for t in IVALUES},{t : 0 for t in IVALUES})\n",
    "for adj in ALL_ADJ: # Filling the tables of gene neighbours\n",
    "    (score,species)=__adj_score_species(adj)\n",
    "    score_bin=math.floor(score*NB_BINS)\n",
    "    (gene1,gene2)=__adj_genes(adj)\n",
    "    for i in range (0,score_bin+1):\n",
    "        DEGREE[gene1][i]+=1\n",
    "        DEGREE[gene2][i]+=1\n",
    "    __TAB_TO_UPDATE=ANC_CONF_DISTRIB\n",
    "    if species[1]!=\"ANCESTRAL\":\n",
    "        __TAB_TO_UPDATE=SCAFF_CONF_DISTRIB\n",
    "    if DEGREE[gene1][i]==3:\n",
    "        for i in range (0,score_bin+1):\n",
    "            __TAB_TO_UPDATE[species][i]+=1\n",
    "    if DEGREE[gene2][i]==3:\n",
    "        for i in range (0,score_bin+1):\n",
    "            __TAB_TO_UPDATE[species][i]+=1"
   ]
  },
  {
   "cell_type": "code",
   "execution_count": null,
   "metadata": {
    "collapsed": false
   },
   "outputs": [],
   "source": [
    "# CC: I do not know how to generate a nice table: this is a pis-aller\n",
    "print(\"species name\\t\"+\"\\t\".join([\"<\"+str(((t+1)/NB_BINS)) for t in IVALUES1]))\n",
    "print(\"\\n\".join(species[1][0:15]+\"\\t\"+\"\\t\".join(str(SCAFF_CONF_DISTRIB[species][t]) for t in IVALUES1) for species in EXTANT_SPECIES))\n",
    "# Figure\n",
    "xlabel= \"Number of genes in conflicts in extant genomes\"\n",
    "title = \"Syntenic conflicts in extant genomes\"\n",
    "plot_scores_distribution_per_species(SCAFF_CONF_DISTRIB, NB_BINS, 1.0, xlabel, title,0.8,True)"
   ]
  },
  {
   "cell_type": "markdown",
   "metadata": {},
   "source": [
    "### *Anopheles funestus* scaffolding"
   ]
  },
  {
   "cell_type": "markdown",
   "metadata": {
    "collapsed": true
   },
   "source": [
    "### Ancestral genomes and evolution\n",
    "\n",
    "The DeClone/ADseq method infers both extant and ancestral adjacencies, thus paving the way to analyse the evolution of genome organization over the considered species tree."
   ]
  },
  {
   "cell_type": "markdown",
   "metadata": {},
   "source": [
    "#### Overview of ancestral adjacencies\n",
    "\n"
   ]
  },
  {
   "cell_type": "markdown",
   "metadata": {},
   "source": [
    "We first look at the distribution of scores of ancestral adjacencies.\n"
   ]
  },
  {
   "cell_type": "code",
   "execution_count": null,
   "metadata": {
    "collapsed": false
   },
   "outputs": [],
   "source": [
    "# CC: I do not know how to generate a nice table: this is a pis-aller\n",
    "print(\"sp_id\\t\"+\"\\t\".join([\"<\"+str(((t+1)/NB_BINS)) for t in IVALUES1])+\"\\t=1.0\")\n",
    "print(\"\\n\".join(species[0]+\"\\t\"+\"\\t\".join(str(ANC_ADJ_DISTRIB[species][t]) for t in IVALUES) for species in ANC_SPECIES))\n",
    "# Figure\n",
    "xlabel= \"Number of ancestral adjacencies per DeClone score (bins of size \"+str(1.0/NB_BINS)+\")\"\n",
    "title = \"Distribution of DeClone scores\"\n",
    "plot_scores_distribution_per_species(ANC_ADJ_DISTRIB, NB_BINS+1, 1.0, xlabel, title, 0.8,True)"
   ]
  },
  {
   "cell_type": "markdown",
   "metadata": {},
   "source": [
    "We now look at the number of genes in a syntenic conflict, again considering adjacencies binned by DeClone score."
   ]
  },
  {
   "cell_type": "code",
   "execution_count": null,
   "metadata": {
    "collapsed": false
   },
   "outputs": [],
   "source": [
    "# CC: I do not know how to generate a nice table: this is a pis-aller\n",
    "print(\"sp_id\\t\"+\"\\t\".join([\"<\"+str(((t+1)/NB_BINS)) for t in IVALUES1])+\"\\t=1.0\")\n",
    "print(\"\\n\".join(species[0]+\"\\t\"+\"\\t\".join(str(ANC_CONF_DISTRIB[species][t]) for t in IVALUES) for species in ANC_SPECIES))\n",
    "# Figure\n",
    "xlabel= \"Number of adjacencies with at least one gene in conflicts in ancestral genomes\"\n",
    "title = \"Syntenic conflicts in ancestral genomes\"\n",
    "plot_scores_distribution_per_species(ANC_CONF_DISTRIB, NB_BINS+1, 1.0, xlabel, title,0.8,True)"
   ]
  },
  {
   "cell_type": "markdown",
   "metadata": {},
   "source": [
    "*To do: looking at the number of components without clearing conflicts, and then with clearing conflicts with the maximum weight matching algorithm.*"
   ]
  },
  {
   "cell_type": "markdown",
   "metadata": {},
   "source": [
    "#### Compared evolution of rearrangement rates in sex chromosomes and autosomes\n",
    "\n",
    "*Definition*: a reconciled gene tree is *X* if all its *A. gambia* genes are on the X chromosome, *autosome* if all its genes are on autosomes, *X+losses* if its genes are either losses or on the sex chromosome, *aut+losses* if the genes are losses or on autosomes, and finally *ambiguous* if it has genes on both the sex chromosome and aome autosome. \n",
    "\n",
    "As seen below, we can observe very few ambiguous reconciled gene trees, although a significant level of uncertainty is brought by gene losses.\n",
    "\n",
    "However, when looking at instances, i.e. at pairs of gene families where at least one potential adjacency is obserrved in the extant genomes, we can see a higher level of apparent movement between the X chromosome and autosomes."
   ]
  },
  {
   "cell_type": "code",
   "execution_count": 14,
   "metadata": {
    "collapsed": false
   },
   "outputs": [
    {
     "name": "stdout",
     "output_type": "stream",
     "text": [
      "chrom.X   \t811\t{'X+losses': 18, 'ambiguous': 22, 'autosome': 106, 'chrom.X': 1064, 'aut+losses': 252}\n",
      "autosome\t8168\t{'X+losses': 0, 'ambiguous': 25, 'autosome': 10023, 'chrom.X': 105, 'aut+losses': 2930}\n",
      "X+losses\t23\t{'X+losses': 7, 'ambiguous': 1, 'autosome': 8, 'chrom.X': 44, 'aut+losses': 10}\n",
      "aut+losses\t2511\t{'X+losses': 0, 'ambiguous': 6, 'autosome': 1379, 'chrom.X': 47, 'aut+losses': 917}\n",
      "ambiguous\t21\t{'X+losses': 1, 'ambiguous': 4, 'autosome': 13, 'chrom.X': 9, 'aut+losses': 8}\n"
     ]
    }
   ],
   "source": [
    "__GAMB_GT_FILE=open('results/gambia_trees','r').readlines()\n",
    "__GT_CLASSES=[\"chrom.X\",\"autosome\", \"X+losses\", \"aut+losses\", \"ambiguous\"]\n",
    "__GT_CLASSES_PRINT={\"chrom.X\": \"chrom.X   \",\"autosome\": \"autosome\", \"X+losses\": \"X+losses\", \"aut+losses\": \"aut+losses\", \"ambiguous\": \"ambiguous\"}\n",
    "GT_CLASSES={gt.split(\"\\t\")[0]: gt.rstrip().split(\"\\t\")[1] for gt in __GAMB_GT_FILE if gt[0]!=\"#\"}\n",
    "GT_CLASSES_SUMMARY={c: len([GT_CLASSES[gt] for gt in GT_CLASSES.keys() if GT_CLASSES[gt]==c]) for c in __GT_CLASSES}\n",
    "INSTANCES_CLASSES_SUMMARY={c1: {c2: 0 for c2 in __GT_CLASSES} for c1 in __GT_CLASSES}\n",
    "for inst in DECLONE_instances_list():\n",
    "    (tree1,tree2)=(DECLONE_instance_tree1(inst),DECLONE_instance_tree2(inst))\n",
    "    INSTANCES_CLASSES_SUMMARY[GT_CLASSES[tree1]][GT_CLASSES[tree2]]+=1\n",
    "for c in __GT_CLASSES:\n",
    "    print(__GT_CLASSES_PRINT[c]+\"\\t\"+str(GT_CLASSES_SUMMARY[c])+\"\\t\"+str(INSTANCES_CLASSES_SUMMARY[c]))"
   ]
  },
  {
   "cell_type": "markdown",
   "metadata": {},
   "source": [
    "*To do: analyse the file results/adjacencies_evolution_chrom that contains the precise evolution of adjacencies along the branches of the species tree with the X/autosome status of the involved genes.*"
   ]
  },
  {
   "cell_type": "markdown",
   "metadata": {},
   "source": [
    "## Discussion"
   ]
  },
  {
   "cell_type": "markdown",
   "metadata": {},
   "source": [
    "## References"
   ]
  },
  {
   "cell_type": "code",
   "execution_count": null,
   "metadata": {
    "collapsed": false
   },
   "outputs": [],
   "source": []
  },
  {
   "cell_type": "code",
   "execution_count": null,
   "metadata": {
    "collapsed": true
   },
   "outputs": [],
   "source": []
  }
 ],
 "metadata": {
  "celltoolbar": "Slideshow",
  "kernelspec": {
   "display_name": "Python 3",
   "language": "python",
   "name": "python3"
  },
  "language_info": {
   "codemirror_mode": {
    "name": "ipython",
    "version": 3
   },
   "file_extension": ".py",
   "mimetype": "text/x-python",
   "name": "python",
   "nbconvert_exporter": "python",
   "pygments_lexer": "ipython3",
   "version": "3.5.1"
  }
 },
 "nbformat": 4,
 "nbformat_minor": 0
}
